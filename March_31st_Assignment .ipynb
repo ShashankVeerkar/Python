{
 "cells": [
  {
   "cell_type": "code",
   "execution_count": 3,
   "metadata": {},
   "outputs": [
    {
     "name": "stdout",
     "output_type": "stream",
     "text": [
      "Apples are better than \\n Oranges\n"
     ]
    }
   ],
   "source": [
    "#I want to print the below string as it is. How do I do that?\n",
    "#“Apples are better than \\n Oranges”\n",
    "print(\"Apples are better than \" + \"\\\\n\" + \" Oranges\")"
   ]
  },
  {
   "cell_type": "code",
   "execution_count": 6,
   "metadata": {},
   "outputs": [
    {
     "data": {
      "text/plain": [
       "['I love python because ',\n",
       " ' is so easy to use ',\n",
       " ' and also ',\n",
       " ' is used by many other IT companies']"
      ]
     },
     "execution_count": 6,
     "metadata": {},
     "output_type": "execute_result"
    }
   ],
   "source": [
    "#string_ex = “I love python because it is so easy to use it and also it is used by many other IT companies”\n",
    "#I want you to split the above string on the separator “it”. How will you do it?\n",
    "string_ex = \"I love python because it is so easy to use it and also it is used by many other IT companies\"\n",
    "string_ex.split('it')"
   ]
  },
  {
   "cell_type": "code",
   "execution_count": 10,
   "metadata": {},
   "outputs": [
    {
     "name": "stdout",
     "output_type": "stream",
     "text": [
      "i lOVE pYTON\n"
     ]
    }
   ],
   "source": [
    "#str_ex = “I Love Pyton”\n",
    "#How do you swap the cases of letters in the above input string?\n",
    "str_ex = \"I Love Pyton\"\n",
    "newString = \"\"\n",
    "for char in str_ex:\n",
    "    if(char.islower()) ==True:\n",
    "        newString +=char.upper()\n",
    "    if(char.isupper()) == True:\n",
    "        newString +=char.lower()\n",
    "    if(char.isspace()) == True: \n",
    "        newString += char\n",
    "print(newString)"
   ]
  },
  {
   "cell_type": "code",
   "execution_count": 16,
   "metadata": {},
   "outputs": [
    {
     "name": "stdout",
     "output_type": "stream",
     "text": [
      "Hey how ar\n",
      "oing great\n",
      "Hey how ar_oing great\n"
     ]
    }
   ],
   "source": [
    "#str_input = “Hey how are you doing. I am doing great”\n",
    "#Get the first 10 characters and the last 10 characters of the above the string and join them\n",
    "#with a “_”\n",
    "str_input = \"Hey how are you doing. I am doing great\"\n",
    "strFirst10 = str_input[:10]\n",
    "print(strFirst10)\n",
    "strLast10 = str_input[-10:]\n",
    "print(strLast10)\n",
    "print(strFirst10 + '_' +strLast10)"
   ]
  },
  {
   "cell_type": "code",
   "execution_count": 40,
   "metadata": {},
   "outputs": [
    {
     "name": "stdout",
     "output_type": "stream",
     "text": [
      "Hot\n",
      "ace\n",
      "ies\n",
      "Fieslspies\n",
      "Hotilitace\n",
      "Fieslspies@Hotilitace\n"
     ]
    }
   ],
   "source": [
    "string1 = \"Hotelspace\"\n",
    "string2=\"Facilities\"\n",
    "#I want you to swap the first three letters and last three letters of both the strings and print\n",
    "#the output by separating them with a “@”\n",
    "string1First3 = string1[:3]\n",
    "print(string1First3)\n",
    "string1Last3 = string1[-3:]\n",
    "print(string1Last3)\n",
    "string2First3 = string2[:3]\n",
    "string2Last3 = string2[-3:]\n",
    "print(string2Last3)\n",
    "\n",
    "newString1 = string1.replace(string1First3 , string2First3)\n",
    "newString1 = newString1.replace(string1Last3 , string2Last3)\n",
    "print(newString1)\n",
    "newString2 = string2.replace(string2First3 , string1First3)\n",
    "newString2 = newString2.replace(string2Last3 , string1Last3)\n",
    "print(newString2)\n",
    "print(newString1 + '@' + newString2)"
   ]
  },
  {
   "cell_type": "code",
   "execution_count": 41,
   "metadata": {},
   "outputs": [
    {
     "name": "stdout",
     "output_type": "stream",
     "text": [
      "Worl\n"
     ]
    }
   ],
   "source": [
    "strr = 'Hello World'\n",
    "#How do you extract the string ‘Worl’ from the above string using negative index?\n",
    "print(strr[-5:-1])"
   ]
  },
  {
   "cell_type": "code",
   "execution_count": 57,
   "metadata": {},
   "outputs": [
    {
     "name": "stdout",
     "output_type": "stream",
     "text": [
      "['4', '5', '-', '3', '*', '6', '+', '5']\n"
     ]
    },
    {
     "data": {
      "text/plain": [
       "'45-3*6+5'"
      ]
     },
     "execution_count": 57,
     "metadata": {},
     "output_type": "execute_result"
    }
   ],
   "source": [
    "#Reverse the string “5+6*3-45”. The output should be “45-3*6+5”.\n",
    "strr=\"5+6*3-45\"\n",
    "strr = strr[::-1]\n",
    "t = list(strr)\n",
    "t[0] , t[1] = t[1] , t[0]\n",
    "print(t)\n",
    "''.join(t)\n"
   ]
  },
  {
   "cell_type": "code",
   "execution_count": 17,
   "metadata": {},
   "outputs": [
    {
     "name": "stdout",
     "output_type": "stream",
     "text": [
      "India heritage South Africa freedom \n"
     ]
    }
   ],
   "source": [
    "str_s = \"India is a great country with a lot of heritage\"\n",
    "str_x = \"South Africa is a great country with a lot of freedom\"\n",
    "#I want you to remove the common words appearing in the above strings and display the leftover words as one single string.\n",
    "wordsFromFirstString = str_s.split(\" \")\n",
    "wordsFromSecondString = str_x.split(\" \")\n",
    "uncommonFromFirst =\"\"\n",
    "uncommonFromSecond = \"\"\n",
    "for x in wordsFromFirstString:\n",
    "    if x not in wordsFromSecondString:\n",
    "        uncommonFromFirst +=x + \" \"\n",
    "for x in wordsFromSecondString:\n",
    "    if x not in wordsFromFirstString:\n",
    "        uncommonFromSecond += x + \" \"\n",
    "        \n",
    "print(uncommonFromFirst + uncommonFromSecond)"
   ]
  },
  {
   "cell_type": "code",
   "execution_count": 14,
   "metadata": {},
   "outputs": [
    {
     "name": "stdout",
     "output_type": "stream",
     "text": [
      "['T', 'H', 'I', 'S', 'A', 'E', 'O', 'C', 'K', 'U', 'N', 'Q', 'R', 'G']\n",
      "T- count is 8\n",
      "H- count is 5\n",
      "I- count is 5\n",
      "S- count is 5\n",
      "A- count is 3\n",
      "E- count is 6\n",
      "O- count is 1\n",
      "C- count is 4\n",
      "K- count is 1\n",
      "U- count is 2\n",
      "N- count is 3\n",
      "Q- count is 1\n",
      "R- count is 3\n",
      "G- count is 1\n"
     ]
    }
   ],
   "source": [
    "variable1=\"This is a test to check the unique characters in the string\"\n",
    "#I want you to identify all the unique characters in the above string and also mention the\n",
    "#number of times these unique characters are repeated in the above string.\n",
    "varlist =[]\n",
    "for i in range(0, len(variable1), 1):\n",
    "    if(variable1[i].upper() not in varlist and variable1[i] != ' '):\n",
    "        varlist.append(variable1[i].upper())\n",
    "print(varlist)\n",
    "for x in varlist:\n",
    "    count =0\n",
    "    for i in range(0, len(variable1), 1):\n",
    "        if(variable1[i].upper() == x):\n",
    "            count +=1\n",
    "    print(x + '- count is ' + str(count) )\n",
    "     "
   ]
  },
  {
   "cell_type": "markdown",
   "metadata": {},
   "source": []
  },
  {
   "cell_type": "code",
   "execution_count": 80,
   "metadata": {},
   "outputs": [
    {
     "name": "stdout",
     "output_type": "stream",
     "text": [
      "a2c4e8g10\n"
     ]
    }
   ],
   "source": [
    "var3 = \"abcdefgh\"\n",
    "count = 1\n",
    "series = 1\n",
    "strr = \"\"\n",
    "#I want you to transform the above string to “a2c4e8g10”\n",
    "for i in range(0, len(var3), 2):\n",
    "    if count % 2 == 0:\n",
    "        series = series + 2\n",
    "        strr += var3[i] + str(series)\n",
    "    else:\n",
    "        series = series * 2\n",
    "        strr += var3[i] + str(series)\n",
    "    count +=1\n",
    "print(strr)\n"
   ]
  },
  {
   "cell_type": "code",
   "execution_count": null,
   "metadata": {},
   "outputs": [],
   "source": []
  },
  {
   "cell_type": "code",
   "execution_count": null,
   "metadata": {},
   "outputs": [],
   "source": []
  },
  {
   "cell_type": "code",
   "execution_count": null,
   "metadata": {},
   "outputs": [],
   "source": []
  },
  {
   "cell_type": "code",
   "execution_count": null,
   "metadata": {},
   "outputs": [],
   "source": []
  }
 ],
 "metadata": {
  "kernelspec": {
   "display_name": "Python 3",
   "language": "python",
   "name": "python3"
  },
  "language_info": {
   "codemirror_mode": {
    "name": "ipython",
    "version": 3
   },
   "file_extension": ".py",
   "mimetype": "text/x-python",
   "name": "python",
   "nbconvert_exporter": "python",
   "pygments_lexer": "ipython3",
   "version": "3.7.1"
  }
 },
 "nbformat": 4,
 "nbformat_minor": 2
}
